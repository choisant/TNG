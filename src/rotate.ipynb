{
 "metadata": {
  "language_info": {
   "codemirror_mode": {
    "name": "ipython",
    "version": 3
   },
   "file_extension": ".py",
   "mimetype": "text/x-python",
   "name": "python",
   "nbconvert_exporter": "python",
   "pygments_lexer": "ipython3",
   "version": "3.8.2-final"
  },
  "orig_nbformat": 2,
  "kernelspec": {
   "name": "python3",
   "display_name": "Python 3",
   "language": "python"
  }
 },
 "nbformat": 4,
 "nbformat_minor": 2,
 "cells": [
  {
   "cell_type": "code",
   "execution_count": 11,
   "metadata": {},
   "outputs": [
    {
     "output_type": "stream",
     "name": "stdout",
     "text": [
      "[1. 0.]\nangle 90.0\n[-1.000000e+00  6.123234e-17]\n"
     ]
    }
   ],
   "source": [
    "import numpy as np\n",
    "import matplotlib.pyplot as plt\n",
    "\n",
    "def rotate2D(theta):\n",
    "    R2D = [[np.cos(theta), -np.sin(theta)], [np.sin(theta), np.cos(theta)]]\n",
    "    return (R2D)\n",
    "\n",
    "B0 = np.identity(2)\n",
    "v = [0, 1]\n",
    "print(B0[:,0])\n",
    "a = np.arccos(np.dot(B0[:,0],v))\n",
    "print(\"angle\", np.degrees(a))\n",
    "B1 = rotate2D(a)\n",
    "v2 = np.dot(B1, np.transpose(v))\n",
    "print(v2)\n"
   ]
  }
 ]
}