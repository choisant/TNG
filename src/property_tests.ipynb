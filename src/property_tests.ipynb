{
 "metadata": {
  "language_info": {
   "codemirror_mode": {
    "name": "ipython",
    "version": 3
   },
   "file_extension": ".py",
   "mimetype": "text/x-python",
   "name": "python",
   "nbconvert_exporter": "python",
   "pygments_lexer": "ipython3",
   "version": "3.8.2-final"
  },
  "orig_nbformat": 2,
  "kernelspec": {
   "name": "python3",
   "display_name": "Python 3",
   "language": "python"
  }
 },
 "nbformat": 4,
 "nbformat_minor": 2,
 "cells": [
  {
   "cell_type": "code",
   "execution_count": 1,
   "metadata": {},
   "outputs": [],
   "source": [
    "import numpy as np\n",
    "import matplotlib.pyplot as plt\n",
    "import pandas as pd\n",
    "from timeit import default_timer as timer\n",
    "import illustris_python as il\n",
    "import physics\n",
    "\n",
    "#intitial setup\n",
    "basePath = \"../data/tng-100-3/output\"\n",
    "fields = {\"stars\": [\"Coordinates\", \"Potential\", \"Masses\", \"Velocities\"],\n",
    "        \"gas\": [\"Coordinates\", \"Potential\", \"Masses\", \"Velocities\"],\n",
    "        \"dm\": [\"Coordinates\", \"Potential\", \"Velocities\"]\n",
    "        }\n",
    "indices = [1893, 2164, 3043]\n",
    "\n",
    "#indices[0] = 1893\n",
    "\n",
    "#[544, 953, 1285, 1662]\n",
    "#[1893, 2164, 3043, 3229, 3403, 3605, 3760] \n",
    "#np.genfromtxt(\"../data/tng-100-3/cutdata/central_ids.txt\")\n",
    "DM_PARTICLE_MASS = 0.03235675 #found in header of snapshot\n",
    "N = len(indices)\n",
    "stars = [0]*N\n",
    "gas = [0]*N\n",
    "dm = [0]*N\n",
    "particle_lists = [gas, dm, stars]\n",
    "group_cat = pd.DataFrame({\"id\": indices})\n",
    "#Start timer\n",
    "start = timer()\n"
   ]
  },
  {
   "cell_type": "code",
   "execution_count": 2,
   "metadata": {},
   "outputs": [],
   "source": [
    "#Load all particles\n",
    "for i in range(N):\n",
    "    stars[i] = il.pandasformat.dict_to_pandas(il.snapshot.loadSubhalo(basePath, 99, indices[i], 'stars', fields[\"stars\"]))\n",
    "    gas[i] = il.pandasformat.dict_to_pandas(il.snapshot.loadSubhalo(basePath, 99, indices[i], 'gas', fields[\"gas\"]))\n",
    "    dm[i] = il.pandasformat.dict_to_pandas(il.snapshot.loadSubhalo(basePath, 99, indices[i], 'dm', fields[\"dm\"]))\n",
    "    dm[i][\"Masses\"] = [DM_PARTICLE_MASS]*len(dm[i][\"Potential\"]) #Add dm masses\n",
    "\n",
    "subhaloFields = [\"SubhaloMass\", 'SubhaloMassType', \"SubhaloMassInHalfRadType\", \"SubhaloHalfmassRadType\", \"SubhaloPos\", \"SubhaloVel\", \"SubhaloSpin\"]\n",
    "subhalos = il.groupcat.loadSubhalos(basePath, 99, fields=subhaloFields)\n",
    "df_subhalos = il.pandasformat.dict_to_pandas(subhalos)"
   ]
  },
  {
   "cell_type": "code",
   "execution_count": 3,
   "metadata": {},
   "outputs": [
    {
     "output_type": "stream",
     "name": "stdout",
     "text": [
      "Calculating subhalo velocity\n",
      "Calculating half mass radius\n"
     ]
    }
   ],
   "source": [
    "group_cat = physics.properties.galaxy_radius(group_cat, basePath)\n",
    "group_cat = physics.properties.center_halo(stars, N, group_cat)\n",
    "for particle in particle_lists:\n",
    "    particle = physics.properties.relative_pos_radius(particle, N, group_cat)\n",
    "\n",
    "for i in range(N):\n",
    "    max_rad = group_cat[\"SubhaloGalaxyRad\"][i]\n",
    "    for particle in particle_lists:\n",
    "        particle[i] = particle[i][particle[i][\"r\"] < max_rad]\n",
    "\n",
    "print(\"Calculating particle masses\")\n",
    "particle_lists, group_cat = physics.properties.total_mass(particle_lists, N, group_cat)\n",
    "\n",
    "print(\"Calculating subhalo velocity\")\n",
    "stars, group_cat = physics.properties.subhalo_velocity(stars, N, group_cat)\n",
    "print(\"Calculating relative velocities\")\n",
    "stars = physics.properties.relative_velocities(stars, N, group_cat)\n",
    "print(\"Calculating half mass radius\")\n",
    "group_cat = physics.properties.half_mass_radius(stars, N, group_cat, \"Stellar\")\n",
    "\n",
    "\"\"\"\n",
    "print(\"Calculating maximum angular momentum\")\n",
    "group_cat = physics.properties.max_ang_momentum(stars, N, group_cat)\n",
    "rot_vector = np.transpose(np.array([group_cat[\"RotationAxisX\"], group_cat[\"RotationAxisY\"], group_cat[\"RotationAxisZ\"]]))\n",
    "print(\"Rotating subhalos\")\n",
    "particle_lists = physics.geometry.rotate_coordinates(particle_lists, N, group_cat, rot_vector)\n",
    "\"\"\"\n",
    "#End timer\n",
    "end = timer()"
   ]
  },
  {
   "cell_type": "code",
   "execution_count": 4,
   "metadata": {},
   "outputs": [
    {
     "output_type": "stream",
     "name": "stdout",
     "text": [
      "Galaxy radius\n0    83.0704\n1    84.4528\n2    77.7103\nName: SubhaloGalaxyRad, dtype: object\n"
     ]
    }
   ],
   "source": [
    "print(\"Galaxy radius\")\n",
    "print(group_cat[\"SubhaloGalaxyRad\"])"
   ]
  },
  {
   "cell_type": "code",
   "execution_count": 5,
   "metadata": {
    "tags": []
   },
   "outputs": [
    {
     "output_type": "stream",
     "name": "stdout",
     "text": [
      "Masses check\nGroup catalogue:  56.558517  Snapshot:  56.55851745605469\nGroup catalogue:  87.63501  Snapshot:  87.635009765625\n"
     ]
    }
   ],
   "source": [
    "print(\"Masses check\")\n",
    "for i in range(2):\n",
    "    print(\"Group catalogue: \", df_subhalos[\"SubhaloMassStellar\"][indices[i]], \" Snapshot: \", group_cat[\"SubhaloMassStellar\"][i])"
   ]
  },
  {
   "cell_type": "code",
   "execution_count": 6,
   "metadata": {
    "tags": []
   },
   "outputs": [
    {
     "output_type": "stream",
     "name": "stdout",
     "text": [
      "Velocities check\n-85.89670987401198 123.78385310820924 -67.07539627490819\n[ 23.972326  27.339745 -51.660805]\n1.765728953975688 -92.23273883649348 -54.0983773748485\n[ 36.599586 -97.97224  -68.23334 ]\n114.19547997390605 131.49600070528192 85.84660613493374\n[54.032154 96.104256 84.92689 ]\n"
     ]
    }
   ],
   "source": [
    "print(\"Velocities check\")\n",
    "for i in range(3):\n",
    "    print(group_cat[\"SubhaloVelX\"][i], group_cat[\"SubhaloVelY\"][i], group_cat[\"SubhaloVelZ\"][i])\n",
    "    print(df_subhalos[\"SubhaloVel\"][indices[i]])"
   ]
  },
  {
   "cell_type": "code",
   "execution_count": 7,
   "metadata": {
    "tags": []
   },
   "outputs": [
    {
     "output_type": "stream",
     "name": "stdout",
     "text": [
      "Halfmass radius check\nGroup catalogue:  22.51544  Snapshot:  22.602636753482404\nGroup catalogue:  35.24243  Snapshot:  35.24388120202146\nGroup catalogue:  27.368404  Snapshot:  27.42387717814212\n"
     ]
    }
   ],
   "source": [
    "print(\"Halfmass radius check\")\n",
    "for i in range(3): \n",
    "    print(\"Group catalogue: \", df_subhalos[\"SubhaloHalfmassRadStellar\"][indices[i]], \" Snapshot: \", group_cat[\"SubhaloHalfmassRadStellar\"][i])"
   ]
  },
  {
   "cell_type": "code",
   "execution_count": 8,
   "metadata": {},
   "outputs": [
    {
     "output_type": "stream",
     "name": "stdout",
     "text": [
      "83.01346190292674\n84.44166469819471\n77.49192657189394\n"
     ]
    }
   ],
   "source": [
    "for i in range(N):\n",
    "    print(stars[i][\"r\"].max())"
   ]
  },
  {
   "cell_type": "code",
   "execution_count": 9,
   "metadata": {},
   "outputs": [],
   "source": [
    "\n",
    "#Save all fields for particles in one subhalo for later inspection\n",
    "#g = 0\n",
    "#stars[g].to_pickle(\"../data/tng-100-3/subhalos/subhalo\" + str(indices[g]) +\"_stars.pkl\")"
   ]
  },
  {
   "cell_type": "code",
   "execution_count": 10,
   "metadata": {},
   "outputs": [],
   "source": [
    "#Save group catalogue\n",
    "#group_cat.to_pickle(\"../data/tng-100-3/catalogues/test_cat_01.pkl\")"
   ]
  },
  {
   "cell_type": "code",
   "execution_count": 11,
   "metadata": {},
   "outputs": [
    {
     "output_type": "stream",
     "name": "stdout",
     "text": [
      "Time to process 3 Subhalos: \n7 Seconds\n"
     ]
    }
   ],
   "source": [
    "\n",
    "print(\"Time to process \" + str(N) + \" Subhalos: \")\n",
    "print(int(end - start), \"Seconds\")"
   ]
  },
  {
   "cell_type": "code",
   "execution_count": null,
   "metadata": {},
   "outputs": [],
   "source": []
  }
 ]
}