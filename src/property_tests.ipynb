{
 "metadata": {
  "language_info": {
   "codemirror_mode": {
    "name": "ipython",
    "version": 3
   },
   "file_extension": ".py",
   "mimetype": "text/x-python",
   "name": "python",
   "nbconvert_exporter": "python",
   "pygments_lexer": "ipython3",
   "version": "3.8.2-final"
  },
  "orig_nbformat": 2,
  "kernelspec": {
   "name": "python3",
   "display_name": "Python 3",
   "language": "python"
  }
 },
 "nbformat": 4,
 "nbformat_minor": 2,
 "cells": [
  {
   "cell_type": "code",
   "execution_count": 1,
   "metadata": {},
   "outputs": [],
   "source": [
    "import numpy as np\n",
    "import matplotlib.pyplot as plt\n",
    "import pandas as pd\n",
    "from timeit import default_timer as timer\n",
    "import illustris_python as il\n",
    "import physics\n",
    "\n",
    "#intitial setup\n",
    "basePath = \"../data/tng-100-3/output\"\n",
    "fields = {\"stars\": [\"Coordinates\", \"Potential\", \"Masses\", \"Velocities\"],\n",
    "        \"gas\": [\"Coordinates\", \"Potential\", \"Masses\", \"Velocities\"],\n",
    "        \"dm\": [\"Coordinates\", \"Potential\", \"Velocities\"]\n",
    "        }\n",
    "indices = np.genfromtxt(\"../data/tng-100-3/cutdata/lates_id.txt\")\n",
    "\n",
    "#indices[0] = 1893\n",
    "\n",
    "#[544, 953, 1285, 1662]\n",
    "#[1893, 2164, 3043, 3229, 3403, 3605, 3760] \n",
    "#np.genfromtxt(\"../data/tng-100-3/cutdata/central_id.txt\")\n",
    "DM_PARTICLE_MASS = 0.03235675 #found in header of snapshot\n",
    "N = len(indices)\n",
    "stars = [0]*N\n",
    "gas = [0]*N\n",
    "dm = [0]*N\n",
    "particle_lists = [gas, dm, stars]\n",
    "group_cat = pd.DataFrame({\"id\": indices})\n",
    "#Start timer\n",
    "start = timer()\n"
   ]
  },
  {
   "cell_type": "code",
   "execution_count": 2,
   "metadata": {},
   "outputs": [],
   "source": [
    "#Load all particles\n",
    "for i in range(N):\n",
    "    stars[i] = il.pandasformat.dict_to_pandas(il.snapshot.loadSubhalo(basePath, 99, indices[i], 'stars', fields[\"stars\"]))\n",
    "    gas[i] = il.pandasformat.dict_to_pandas(il.snapshot.loadSubhalo(basePath, 99, indices[i], 'gas', fields[\"gas\"]))\n",
    "    dm[i] = il.pandasformat.dict_to_pandas(il.snapshot.loadSubhalo(basePath, 99, indices[i], 'dm', fields[\"dm\"]))\n",
    "    dm[i][\"Masses\"] = [DM_PARTICLE_MASS]*len(dm[i][\"Potential\"]) #Add dm masses\n",
    "\n",
    "subhaloFields = [\"SubhaloMass\", 'SubhaloMassType', \"SubhaloMassInHalfRadType\", \"SubhaloHalfmassRadType\", \"SubhaloPos\", \"SubhaloVel\", \"SubhaloSpin\"]\n",
    "subhalos = il.groupcat.loadSubhalos(basePath, 99, fields=subhaloFields)\n",
    "df_subhalos = il.pandasformat.dict_to_pandas(subhalos)"
   ]
  },
  {
   "cell_type": "code",
   "execution_count": 3,
   "metadata": {},
   "outputs": [
    {
     "output_type": "stream",
     "name": "stdout",
     "text": [
      "Calculating stellar masses\n",
      "Calculating subhalo velocity\n",
      "Calculating relative velocities\n",
      "Calculating half mass radius\n",
      "Calculating maximum angular momentum\n"
     ]
    }
   ],
   "source": [
    "group_cat = physics.properties.galaxy_radius(group_cat, basePath)\n",
    "group_cat = physics.properties.center_halo(stars, N, group_cat)\n",
    "for particle in particle_lists:\n",
    "    particle = physics.properties.relative_pos_radius(particle, N, group_cat)\n",
    "\n",
    "for i in range(N):\n",
    "    max_rad = group_cat[\"SubhaloGalaxyRad\"][i]\n",
    "    for particle in particle_lists:\n",
    "        particle[i] = particle[i][particle[i][\"r\"] < max_rad]\n",
    "\n",
    "print(\"Calculating stellar masses\")\n",
    "group_cat = physics.properties.total_mass(stars, N, group_cat)\n",
    "print(\"Calculating subhalo velocity\")\n",
    "stars, group_cat = physics.properties.subhalo_velocity(stars, N, group_cat)\n",
    "print(\"Calculating relative velocities\")\n",
    "stars = physics.properties.relative_velocities(stars, N, group_cat)\n",
    "print(\"Calculating half mass radius\")\n",
    "group_cat = physics.properties.half_mass_radius(stars, N, group_cat, \"Stellar\")\n",
    "print(\"Calculating maximum angular momentum\")\n",
    "group_cat = physics.properties.max_ang_momentum(stars, N, group_cat)\n",
    "rot_vector = np.transpose(np.array([group_cat[\"RotationAxisX\"], group_cat[\"RotationAxisY\"], group_cat[\"RotationAxisZ\"]]))\n",
    "#print(\"Rotating subhalos\")\n",
    "stars = physics.geometry.rotate_coordinates(stars, N, group_cat, rot_vector)\n",
    "\n",
    "#End timer\n",
    "end = timer()"
   ]
  },
  {
   "cell_type": "code",
   "execution_count": 4,
   "metadata": {},
   "outputs": [
    {
     "output_type": "stream",
     "name": "stdout",
     "text": [
      "Galaxy radius\n0     154.633\n1      149.16\n2     118.384\n3     135.639\n4     127.379\n5     94.9228\n6      128.29\n7     97.2193\n8     100.294\n9     83.7265\n10    97.2478\n11    85.5586\n12    82.3664\n13     84.557\n14    82.6722\n15    75.8837\n16    67.0623\nName: SubhaloGalaxyRad, dtype: object\n"
     ]
    }
   ],
   "source": [
    "print(\"Galaxy radius\")\n",
    "print(group_cat[\"SubhaloGalaxyRad\"])"
   ]
  },
  {
   "cell_type": "code",
   "execution_count": 5,
   "metadata": {
    "tags": []
   },
   "outputs": [
    {
     "output_type": "stream",
     "name": "stdout",
     "text": [
      "Masses check\nGroup catalogue:  80.1757  Snapshot:  54.72526931762695\nGroup catalogue:  90.369896  Snapshot:  58.46538543701172\nGroup catalogue:  43.96099  Snapshot:  30.320581436157227\nGroup catalogue:  42.83398  Snapshot:  30.461362838745117\nGroup catalogue:  71.43518  Snapshot:  56.552490234375\nGroup catalogue:  31.020468  Snapshot:  24.84549331665039\nGroup catalogue:  61.905563  Snapshot:  46.23890686035156\nGroup catalogue:  26.348753  Snapshot:  18.92565155029297\nGroup catalogue:  35.285233  Snapshot:  26.45091438293457\nGroup catalogue:  26.87838  Snapshot:  18.650514602661133\nGroup catalogue:  32.6163  Snapshot:  24.920703887939453\nGroup catalogue:  24.071224  Snapshot:  16.9431095123291\nGroup catalogue:  23.879963  Snapshot:  17.98649787902832\nGroup catalogue:  18.338  Snapshot:  14.38700008392334\nGroup catalogue:  21.333466  Snapshot:  16.593730926513672\nGroup catalogue:  17.440697  Snapshot:  15.32013988494873\nGroup catalogue:  19.955704  Snapshot:  14.871585845947266\n"
     ]
    }
   ],
   "source": [
    "print(\"Masses check\")\n",
    "for i in range(N):\n",
    "    print(\"Group catalogue: \", df_subhalos[\"SubhaloMassStellar\"][indices[i]], \" Snapshot: \", group_cat[\"SubhaloMassStellar\"][i])"
   ]
  },
  {
   "cell_type": "code",
   "execution_count": 6,
   "metadata": {
    "tags": []
   },
   "outputs": [
    {
     "output_type": "stream",
     "name": "stdout",
     "text": [
      "Velocities check\n-171.23763665295385 511.42953563603055 -22.79878854361744\n[-175.13785    81.367256   -8.339443]\n208.42888417637573 -144.33385048683883 91.88748882556843\n[279.23257  -99.84879   82.072495]\n103.81072984261439 72.9156542950619 224.41707709524943\n[174.64732  57.31744 170.41402]\n"
     ]
    }
   ],
   "source": [
    "print(\"Velocities check\")\n",
    "for i in range(3):\n",
    "    print(group_cat[\"SubhaloVelX\"][i], group_cat[\"SubhaloVelY\"][i], group_cat[\"SubhaloVelZ\"][i])\n",
    "    print(df_subhalos[\"SubhaloVel\"][indices[i]])"
   ]
  },
  {
   "cell_type": "code",
   "execution_count": 7,
   "metadata": {
    "tags": []
   },
   "outputs": [
    {
     "output_type": "stream",
     "name": "stdout",
     "text": [
      "Halfmass radius check\n",
      "Group catalogue:  64.70497  Snapshot:  31.57238065633738\n",
      "Group catalogue:  79.047134  Snapshot:  36.121992901430765\n",
      "Group catalogue:  33.925236  Snapshot:  12.658515597823898\n",
      "Group catalogue:  40.62605  Snapshot:  15.872608862831003\n",
      "Group catalogue:  39.33135  Snapshot:  27.91179017846851\n",
      "Group catalogue:  25.502897  Snapshot:  15.98410238078073\n",
      "Group catalogue:  42.428154  Snapshot:  25.435664895404276\n",
      "Group catalogue:  39.58687  Snapshot:  20.970284415016593\n",
      "Group catalogue:  38.12533  Snapshot:  24.30770432358828\n",
      "Group catalogue:  36.701736  Snapshot:  19.920024057559477\n",
      "Group catalogue:  48.0739  Snapshot:  22.628384106601988\n",
      "Group catalogue:  43.243774  Snapshot:  22.62129063967549\n",
      "Group catalogue:  28.56665  Snapshot:  18.41530676286985\n",
      "Group catalogue:  20.917725  Snapshot:  12.988256917244314\n",
      "Group catalogue:  30.294857  Snapshot:  20.849101514509798\n",
      "Group catalogue:  18.171694  Snapshot:  14.939001622467318\n",
      "Group catalogue:  37.15208  Snapshot:  24.423606862005173\n"
     ]
    }
   ],
   "source": [
    "print(\"Halfmass radius check\")\n",
    "for i in range(N): \n",
    "    print(\"Group catalogue: \", df_subhalos[\"SubhaloHalfmassRadStellar\"][indices[i]], \" Snapshot: \", group_cat[\"SubhaloHalfmassRadStellar\"][i])"
   ]
  },
  {
   "cell_type": "code",
   "execution_count": 15,
   "metadata": {},
   "outputs": [
    {
     "output_type": "stream",
     "name": "stdout",
     "text": [
      "4408.0\n"
     ]
    }
   ],
   "source": [
    "\n",
    "#Save all fields for particles in one subhalo for later inspection\n",
    "g = 10\n",
    "stars[g].to_pickle(\"../data/tng-100-3/subhalos/subhalo\" + str(int(indices[g])) +\"_stars.pkl\")\n",
    "print(indices[g])"
   ]
  },
  {
   "cell_type": "code",
   "execution_count": 9,
   "metadata": {},
   "outputs": [],
   "source": [
    "#Save group catalogue\n",
    "#group_cat.to_pickle(\"../data/tng-100-3/catalogues/test_cat_01.pkl\")"
   ]
  },
  {
   "cell_type": "code",
   "execution_count": 10,
   "metadata": {},
   "outputs": [
    {
     "output_type": "stream",
     "name": "stdout",
     "text": [
      "Time to process 17 Subhalos: \n",
      "17 Seconds\n"
     ]
    }
   ],
   "source": [
    "\n",
    "print(\"Time to process \" + str(N) + \" Subhalos: \")\n",
    "print(int(end - start), \"Seconds\")"
   ]
  },
  {
   "cell_type": "code",
   "execution_count": null,
   "metadata": {},
   "outputs": [],
   "source": []
  }
 ]
}