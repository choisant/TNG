{
 "metadata": {
  "language_info": {
   "codemirror_mode": {
    "name": "ipython",
    "version": 3
   },
   "file_extension": ".py",
   "mimetype": "text/x-python",
   "name": "python",
   "nbconvert_exporter": "python",
   "pygments_lexer": "ipython3",
   "version": "3.8.2-final"
  },
  "orig_nbformat": 2,
  "kernelspec": {
   "name": "python3",
   "display_name": "Python 3",
   "language": "python"
  }
 },
 "nbformat": 4,
 "nbformat_minor": 2,
 "cells": [
  {
   "cell_type": "code",
   "execution_count": 1,
   "metadata": {},
   "outputs": [],
   "source": [
    "import numpy as np\n",
    "import matplotlib.pyplot as plt\n",
    "import pandas as pd\n",
    "from timeit import default_timer as timer\n",
    "import illustris_python as il\n",
    "import physics\n",
    "\n",
    "#intitial setup\n",
    "basePath = \"../data/tng-100-3/output\"\n",
    "fields = {\"stars\": [\"Coordinates\", \"Potential\", \"Masses\", \"Velocities\"],\n",
    "        \"gas\": [\"Coordinates\", \"Potential\", \"Masses\", \"Velocities\"],\n",
    "        \"dm\": [\"Coordinates\", \"Potential\", \"Velocities\"]\n",
    "        }\n",
    "indices = np.genfromtxt(\"../data/tng-100-3/cutdata/central_id.txt\")\n",
    "\n",
    "#indices[0] = 1893\n",
    "\n",
    "#[544, 953, 1285, 1662]\n",
    "#[1893, 2164, 3043, 3229, 3403, 3605, 3760] \n",
    "#np.genfromtxt(\"../data/tng-100-3/cutdata/central_id.txt\")\n",
    "DM_PARTICLE_MASS = 0.03235675 #found in header of snapshot\n",
    "N = len(indices)\n",
    "stars = [0]*N\n",
    "gas = [0]*N\n",
    "dm = [0]*N\n",
    "particle_lists = [stars] #gas, dm, \n",
    "group_cat = pd.DataFrame({\"id\": indices})\n",
    "#Start timer\n",
    "start = timer()\n"
   ]
  },
  {
   "cell_type": "code",
   "execution_count": 2,
   "metadata": {},
   "outputs": [],
   "source": [
    "#Load all particles\n",
    "for i in range(N):\n",
    "    stars[i] = il.pandasformat.dict_to_pandas(il.snapshot.loadSubhalo(basePath, 99, indices[i], 'stars', fields[\"stars\"]))\n",
    "    #gas[i] = il.pandasformat.dict_to_pandas(il.snapshot.loadSubhalo(basePath, 99, indices[i], 'gas', fields[\"gas\"]))\n",
    "    #dm[i] = il.pandasformat.dict_to_pandas(il.snapshot.loadSubhalo(basePath, 99, indices[i], 'dm', fields[\"dm\"]))\n",
    "    #dm[i][\"Masses\"] = [DM_PARTICLE_MASS]*len(dm[i][\"Potential\"]) #Add dm masses\n",
    "\n",
    "subhaloFields = [\"SubhaloMass\", 'SubhaloMassType', \"SubhaloMassInHalfRadType\", \"SubhaloHalfmassRadType\", \"SubhaloPos\", \"SubhaloVel\", \"SubhaloSpin\"]\n",
    "subhalos = il.groupcat.loadSubhalos(basePath, 99, fields=subhaloFields)\n",
    "df_subhalos = il.pandasformat.dict_to_pandas(subhalos)"
   ]
  },
  {
   "cell_type": "code",
   "execution_count": 3,
   "metadata": {},
   "outputs": [
    {
     "output_type": "stream",
     "name": "stdout",
     "text": [
      "Calculating stellar masses\n",
      "Calculating subhalo velocity\n",
      "Calculating relative velocities\n",
      "Calculating half mass radius\n",
      "Calculating maximum angular momentum\n",
      "Rotating subhalos\n"
     ]
    }
   ],
   "source": [
    "group_cat = physics.properties.galaxy_radius(group_cat, basePath)\n",
    "group_cat = physics.properties.center_halo(stars, N, group_cat)\n",
    "for particle in particle_lists:\n",
    "    particle = physics.properties.relative_pos_radius(particle, N, group_cat)\n",
    "\n",
    "for i in range(N):\n",
    "    max_rad = group_cat[\"SubhaloGalaxyRad\"][i]\n",
    "    for particle in particle_lists:\n",
    "        particle[i] = particle[i][particle[i][\"r\"] < max_rad]\n",
    "\n",
    "print(\"Calculating stellar masses\")\n",
    "group_cat = physics.properties.total_mass(stars, N, group_cat)\n",
    "print(\"Calculating subhalo velocity\")\n",
    "stars, group_cat = physics.properties.subhalo_velocity(stars, N, group_cat)\n",
    "print(\"Calculating relative velocities\")\n",
    "stars = physics.properties.relative_velocities(stars, N, group_cat)\n",
    "print(\"Calculating half mass radius\")\n",
    "group_cat = physics.properties.half_mass_radius(stars, N, group_cat, \"Stellar\")\n",
    "print(\"Calculating maximum angular momentum\")\n",
    "group_cat = physics.properties.max_ang_momentum(stars, N, group_cat)\n",
    "rot_vector = np.transpose(np.array([group_cat[\"RotationAxisX\"], group_cat[\"RotationAxisY\"], group_cat[\"RotationAxisZ\"]]))\n",
    "print(\"Rotating subhalos\")\n",
    "stars = physics.geometry.rotate_coordinates(stars, N, rot_vector)\n",
    "\n",
    "#End timer\n",
    "end = timer()"
   ]
  },
  {
   "cell_type": "code",
   "execution_count": 4,
   "metadata": {},
   "outputs": [
    {
     "output_type": "stream",
     "name": "stdout",
     "text": [
      "Galaxy radius\n0      154.633\n1       149.16\n2      118.384\n3      135.639\n4      124.606\n        ...   \n99     51.2713\n100    51.4321\n101    45.9509\n102    39.8238\n103    39.4701\nName: SubhaloGalaxyRad, Length: 104, dtype: object\n"
     ]
    }
   ],
   "source": [
    "print(\"Galaxy radius\")\n",
    "print(group_cat[\"SubhaloGalaxyRad\"])"
   ]
  },
  {
   "cell_type": "code",
   "execution_count": 5,
   "metadata": {
    "tags": []
   },
   "outputs": [
    {
     "output_type": "stream",
     "name": "stdout",
     "text": [
      "Masses check\nGroup catalogue:  80.1757  Snapshot:  54.72526931762695\nGroup catalogue:  90.369896  Snapshot:  58.46538543701172\nGroup catalogue:  43.96099  Snapshot:  30.320581436157227\nGroup catalogue:  42.83398  Snapshot:  30.461362838745117\nGroup catalogue:  56.558517  Snapshot:  43.7795524597168\nGroup catalogue:  87.63501  Snapshot:  70.92870330810547\nGroup catalogue:  71.43518  Snapshot:  56.552490234375\nGroup catalogue:  31.020468  Snapshot:  24.84549331665039\nGroup catalogue:  61.905563  Snapshot:  46.23890686035156\nGroup catalogue:  61.568096  Snapshot:  50.89623260498047\nGroup catalogue:  51.169712  Snapshot:  40.30483627319336\nGroup catalogue:  18.015245  Snapshot:  14.132622718811035\nGroup catalogue:  16.47061  Snapshot:  13.221027374267578\nGroup catalogue:  38.428806  Snapshot:  31.063730239868164\nGroup catalogue:  32.70103  Snapshot:  24.75693702697754\nGroup catalogue:  26.348753  Snapshot:  18.92565155029297\nGroup catalogue:  25.611813  Snapshot:  19.45177459716797\nGroup catalogue:  35.285233  Snapshot:  26.45091438293457\nGroup catalogue:  26.87838  Snapshot:  18.650514602661133\nGroup catalogue:  32.6163  Snapshot:  24.920703887939453\nGroup catalogue:  21.004122  Snapshot:  17.153900146484375\nGroup catalogue:  51.72333  Snapshot:  43.8524055480957\nGroup catalogue:  24.071224  Snapshot:  16.9431095123291\nGroup catalogue:  28.733152  Snapshot:  23.86676025390625\nGroup catalogue:  42.085285  Snapshot:  35.04438400268555\nGroup catalogue:  36.447124  Snapshot:  30.20575714111328\nGroup catalogue:  23.879963  Snapshot:  17.98649787902832\nGroup catalogue:  36.655193  Snapshot:  32.968170166015625\nGroup catalogue:  18.338  Snapshot:  14.38700008392334\nGroup catalogue:  22.016722  Snapshot:  19.257057189941406\nGroup catalogue:  35.216293  Snapshot:  27.90254020690918\nGroup catalogue:  20.745909  Snapshot:  16.859298706054688\nGroup catalogue:  26.650198  Snapshot:  19.996253967285156\nGroup catalogue:  24.401232  Snapshot:  21.09124183654785\nGroup catalogue:  15.866556  Snapshot:  12.654314994812012\nGroup catalogue:  12.716883  Snapshot:  10.591692924499512\nGroup catalogue:  21.333466  Snapshot:  16.593730926513672\nGroup catalogue:  29.87638  Snapshot:  26.08180046081543\nGroup catalogue:  24.514883  Snapshot:  21.417646408081055\nGroup catalogue:  16.758862  Snapshot:  14.368907928466797\nGroup catalogue:  11.075426  Snapshot:  10.041365623474121\nGroup catalogue:  16.230698  Snapshot:  10.950202941894531\nGroup catalogue:  28.335712  Snapshot:  23.00263786315918\nGroup catalogue:  18.99179  Snapshot:  15.59268856048584\nGroup catalogue:  17.5264  Snapshot:  15.215853691101074\nGroup catalogue:  15.67915  Snapshot:  13.512877464294434\nGroup catalogue:  32.88293  Snapshot:  26.809661865234375\nGroup catalogue:  16.184969  Snapshot:  12.144124984741211\nGroup catalogue:  21.770586  Snapshot:  19.22052574157715\nGroup catalogue:  12.880316  Snapshot:  11.381290435791016\nGroup catalogue:  17.440697  Snapshot:  15.32013988494873\nGroup catalogue:  24.757063  Snapshot:  21.301586151123047\nGroup catalogue:  25.078764  Snapshot:  21.191564559936523\nGroup catalogue:  15.669246  Snapshot:  12.955268859863281\nGroup catalogue:  16.447445  Snapshot:  13.672465324401855\nGroup catalogue:  20.818302  Snapshot:  16.990812301635742\nGroup catalogue:  10.257489  Snapshot:  7.958587646484375\nGroup catalogue:  19.955704  Snapshot:  14.871585845947266\nGroup catalogue:  26.37133  Snapshot:  21.87693214416504\nGroup catalogue:  26.765747  Snapshot:  23.217857360839844\nGroup catalogue:  14.395388  Snapshot:  12.840805053710938\nGroup catalogue:  17.706285  Snapshot:  14.04733657836914\nGroup catalogue:  12.11855  Snapshot:  10.32310676574707\nGroup catalogue:  17.801235  Snapshot:  14.611382484436035\nGroup catalogue:  17.351158  Snapshot:  14.600486755371094\nGroup catalogue:  11.842881  Snapshot:  10.219283103942871\nGroup catalogue:  14.223211  Snapshot:  11.904731750488281\nGroup catalogue:  10.729277  Snapshot:  8.590242385864258\nGroup catalogue:  10.6591425  Snapshot:  8.765408515930176\nGroup catalogue:  16.532701  Snapshot:  14.363409996032715\nGroup catalogue:  11.871811  Snapshot:  11.00464916229248\nGroup catalogue:  12.215938  Snapshot:  11.213104248046875\nGroup catalogue:  12.537028  Snapshot:  10.116217613220215\nGroup catalogue:  10.340938  Snapshot:  9.03462028503418\nGroup catalogue:  11.460757  Snapshot:  9.539164543151855\nGroup catalogue:  10.465217  Snapshot:  9.613420486450195\nGroup catalogue:  15.543304  Snapshot:  11.887051582336426\nGroup catalogue:  10.214468  Snapshot:  9.385787010192871\nGroup catalogue:  12.798037  Snapshot:  11.147370338439941\nGroup catalogue:  10.631935  Snapshot:  8.259778022766113\nGroup catalogue:  15.087194  Snapshot:  12.87447452545166\nGroup catalogue:  10.506476  Snapshot:  9.079554557800293\nGroup catalogue:  13.455359  Snapshot:  12.683756828308105\nGroup catalogue:  17.575125  Snapshot:  16.07859992980957\nGroup catalogue:  10.438953  Snapshot:  9.087890625\nGroup catalogue:  11.888429  Snapshot:  10.00305461883545\nGroup catalogue:  13.278249  Snapshot:  10.219566345214844\nGroup catalogue:  13.468534  Snapshot:  11.141429901123047\nGroup catalogue:  10.3947  Snapshot:  8.682181358337402\nGroup catalogue:  10.992139  Snapshot:  9.498329162597656\nGroup catalogue:  15.413188  Snapshot:  13.771981239318848\nGroup catalogue:  13.034728  Snapshot:  11.36852741241455\nGroup catalogue:  13.569189  Snapshot:  11.731471061706543\nGroup catalogue:  11.106606  Snapshot:  10.041219711303711\nGroup catalogue:  11.855714  Snapshot:  10.210733413696289\nGroup catalogue:  12.344826  Snapshot:  10.017669677734375\nGroup catalogue:  9.769164  Snapshot:  8.241074562072754\nGroup catalogue:  9.863017  Snapshot:  8.541596412658691\nGroup catalogue:  10.5689945  Snapshot:  9.475384712219238\nGroup catalogue:  9.508731  Snapshot:  8.442320823669434\nGroup catalogue:  15.206428  Snapshot:  12.860123634338379\nGroup catalogue:  11.48636  Snapshot:  9.86526870727539\nGroup catalogue:  9.737571  Snapshot:  8.818174362182617\nGroup catalogue:  10.417911  Snapshot:  9.133981704711914\n"
     ]
    }
   ],
   "source": [
    "print(\"Masses check\")\n",
    "for i in range(N):\n",
    "    print(\"Group catalogue: \", df_subhalos[\"SubhaloMassStellar\"][indices[i]], \" Snapshot: \", group_cat[\"SubhaloMassStellar\"][i])"
   ]
  },
  {
   "cell_type": "code",
   "execution_count": 6,
   "metadata": {
    "tags": []
   },
   "outputs": [
    {
     "output_type": "stream",
     "name": "stdout",
     "text": [
      "Velocities check\n-171.23763665295385 511.42953563603055 -22.79878854361744\n[-175.13785    81.367256   -8.339443]\n208.42888417637573 -144.33385048683883 91.88748882556843\n[279.23257  -99.84879   82.072495]\n103.81072984261439 72.9156542950619 224.41707709524943\n[174.64732  57.31744 170.41402]\n"
     ]
    }
   ],
   "source": [
    "print(\"Velocities check\")\n",
    "for i in range(3):\n",
    "    print(group_cat[\"SubhaloVelX\"][i], group_cat[\"SubhaloVelY\"][i], group_cat[\"SubhaloVelZ\"][i])\n",
    "    print(df_subhalos[\"SubhaloVel\"][indices[i]])"
   ]
  },
  {
   "cell_type": "code",
   "execution_count": 7,
   "metadata": {
    "tags": []
   },
   "outputs": [
    {
     "output_type": "stream",
     "name": "stdout",
     "text": [
      "Halfmass radius check\nGroup catalogue:  64.70497  Snapshot:  31.57238065633738\nGroup catalogue:  79.047134  Snapshot:  36.121992901430765\nGroup catalogue:  33.925236  Snapshot:  12.658515597823898\nGroup catalogue:  40.62605  Snapshot:  15.872608862831003\nGroup catalogue:  22.51544  Snapshot:  10.342553241262525\nGroup catalogue:  35.24243  Snapshot:  25.357411437842035\nGroup catalogue:  39.33135  Snapshot:  27.91179017846851\nGroup catalogue:  25.502897  Snapshot:  15.98410238078073\nGroup catalogue:  42.428154  Snapshot:  25.435664895404276\nGroup catalogue:  27.368404  Snapshot:  20.199075745338785\nGroup catalogue:  28.622637  Snapshot:  18.6557231777787\nGroup catalogue:  20.585445  Snapshot:  14.35802226543256\nGroup catalogue:  15.178419  Snapshot:  10.368649653735417\nGroup catalogue:  21.49089  Snapshot:  15.39184360570783\nGroup catalogue:  13.425839  Snapshot:  8.10292985488646\nGroup catalogue:  39.58687  Snapshot:  20.970284415016593\nGroup catalogue:  36.317265  Snapshot:  26.336418790111296\nGroup catalogue:  38.12533  Snapshot:  24.30770432358828\nGroup catalogue:  36.701736  Snapshot:  19.920024057559477\nGroup catalogue:  48.0739  Snapshot:  22.628384106601988\nGroup catalogue:  21.77212  Snapshot:  16.75059834195504\nGroup catalogue:  30.207346  Snapshot:  24.009453436586465\nGroup catalogue:  43.243774  Snapshot:  22.62129063967549\nGroup catalogue:  23.068663  Snapshot:  16.91842721335406\nGroup catalogue:  21.479792  Snapshot:  15.462308877362476\nGroup catalogue:  20.758394  Snapshot:  13.632915617919405\nGroup catalogue:  28.56665  Snapshot:  18.41530676286985\nGroup catalogue:  15.982332  Snapshot:  13.3722581862579\nGroup catalogue:  20.917725  Snapshot:  12.988256917244314\nGroup catalogue:  19.60118  Snapshot:  15.706423457490791\nGroup catalogue:  31.406868  Snapshot:  21.685930289451885\nGroup catalogue:  29.148232  Snapshot:  21.176692397511395\nGroup catalogue:  28.812134  Snapshot:  18.495034944702105\nGroup catalogue:  20.105412  Snapshot:  16.235712822266162\nGroup catalogue:  20.023335  Snapshot:  14.41321497490204\nGroup catalogue:  16.053596  Snapshot:  11.330423296849641\nGroup catalogue:  30.294857  Snapshot:  20.849101514509798\nGroup catalogue:  18.961111  Snapshot:  13.915231048475027\nGroup catalogue:  20.695435  Snapshot:  17.308930669140196\nGroup catalogue:  18.019527  Snapshot:  14.175922972422681\nGroup catalogue:  11.85813  Snapshot:  10.193586642057193\nGroup catalogue:  26.709291  Snapshot:  14.219710733466327\nGroup catalogue:  27.42184  Snapshot:  20.1988987830701\nGroup catalogue:  19.933252  Snapshot:  15.196757899866443\nGroup catalogue:  17.222095  Snapshot:  14.044797888730068\nGroup catalogue:  16.383564  Snapshot:  12.928720033310057\nGroup catalogue:  27.293701  Snapshot:  20.967250768565176\nGroup catalogue:  23.050016  Snapshot:  14.056845518539358\nGroup catalogue:  13.750112  Snapshot:  11.170463343901272\nGroup catalogue:  16.566298  Snapshot:  13.83571823614848\nGroup catalogue:  18.171694  Snapshot:  14.939001622467318\nGroup catalogue:  17.640875  Snapshot:  14.222620421573541\nGroup catalogue:  22.09929  Snapshot:  17.638458464036287\nGroup catalogue:  16.175383  Snapshot:  11.61002457379365\nGroup catalogue:  15.484746  Snapshot:  11.908858900163535\nGroup catalogue:  18.512005  Snapshot:  13.212138168961651\nGroup catalogue:  13.080526  Snapshot:  8.517850710067256\nGroup catalogue:  37.15208  Snapshot:  24.423606862005173\nGroup catalogue:  21.449978  Snapshot:  16.64264359730966\nGroup catalogue:  18.335571  Snapshot:  14.713904898427142\nGroup catalogue:  8.305461  Snapshot:  7.1147211452341805\nGroup catalogue:  25.8825  Snapshot:  18.879517866809046\nGroup catalogue:  15.714493  Snapshot:  12.656907747355703\nGroup catalogue:  19.461382  Snapshot:  15.431287177349706\nGroup catalogue:  14.067878  Snapshot:  9.921286777946266\nGroup catalogue:  15.373593  Snapshot:  12.566584845759676\nGroup catalogue:  19.186014  Snapshot:  14.968834056411318\nGroup catalogue:  18.4022  Snapshot:  13.201816978738156\nGroup catalogue:  19.988167  Snapshot:  15.91835776569045\nGroup catalogue:  15.292626  Snapshot:  12.634261957648327\nGroup catalogue:  14.262926  Snapshot:  12.865547760054689\nGroup catalogue:  14.404556  Snapshot:  13.065488283715467\nGroup catalogue:  17.67718  Snapshot:  13.20420026901023\nGroup catalogue:  13.827344  Snapshot:  11.339472175355725\nGroup catalogue:  10.765133  Snapshot:  7.8373285755724655\nGroup catalogue:  10.466497  Snapshot:  9.428043645044323\nGroup catalogue:  21.486002  Snapshot:  14.98080075945625\nGroup catalogue:  11.733565  Snapshot:  10.47545921490194\nGroup catalogue:  15.973672  Snapshot:  12.645180227777761\nGroup catalogue:  14.261263  Snapshot:  7.983981564862062\nGroup catalogue:  15.1706915  Snapshot:  12.796770991017393\nGroup catalogue:  13.440117  Snapshot:  11.122668756700493\nGroup catalogue:  7.2153068  Snapshot:  6.54923819954887\nGroup catalogue:  9.266548  Snapshot:  8.163169624019362\nGroup catalogue:  14.298242  Snapshot:  11.946668140033758\nGroup catalogue:  15.84305  Snapshot:  11.718134192550151\nGroup catalogue:  20.134598  Snapshot:  13.456086391873333\nGroup catalogue:  17.735876  Snapshot:  13.60275278487258\nGroup catalogue:  16.942139  Snapshot:  13.448293299748196\nGroup catalogue:  15.272108  Snapshot:  12.454398223075982\nGroup catalogue:  16.525433  Snapshot:  14.345685691604741\nGroup catalogue:  16.325783  Snapshot:  13.842022938617996\nGroup catalogue:  15.423829  Snapshot:  13.055610881246768\nGroup catalogue:  11.235122  Snapshot:  9.786032621391557\nGroup catalogue:  15.902165  Snapshot:  12.55720270854226\nGroup catalogue:  18.289974  Snapshot:  13.432570909981026\nGroup catalogue:  12.834467  Snapshot:  10.097764986251104\nGroup catalogue:  11.860435  Snapshot:  9.470147686883836\nGroup catalogue:  12.720626  Snapshot:  10.919329435201783\nGroup catalogue:  12.924933  Snapshot:  11.029352252130995\nGroup catalogue:  16.14359  Snapshot:  12.824410074367321\nGroup catalogue:  13.345642  Snapshot:  10.55144286435959\nGroup catalogue:  10.732337  Snapshot:  9.461420958035367\nGroup catalogue:  7.296336  Snapshot:  6.384215037839518\n"
     ]
    }
   ],
   "source": [
    "print(\"Halfmass radius check\")\n",
    "for i in range(N): \n",
    "    print(\"Group catalogue: \", df_subhalos[\"SubhaloHalfmassRadStellar\"][indices[i]], \" Snapshot: \", group_cat[\"SubhaloHalfmassRadStellar\"][i])"
   ]
  },
  {
   "cell_type": "code",
   "execution_count": 8,
   "metadata": {},
   "outputs": [
    {
     "output_type": "stream",
     "name": "stdout",
     "text": [
      "3229.0\n"
     ]
    }
   ],
   "source": [
    "\n",
    "#Save all fields for particles in one subhalo for later inspection\n",
    "g = 10\n",
    "stars[g].to_pickle(\"../data/tng-100-3/subhalos/subhalo\" + str(int(indices[g])) +\"_stars.pkl\")\n",
    "print(indices[g])"
   ]
  },
  {
   "cell_type": "code",
   "execution_count": 9,
   "metadata": {},
   "outputs": [],
   "source": [
    "#Save group catalogue\n",
    "#group_cat.to_pickle(\"../data/tng-100-3/catalogues/test_cat_01.pkl\")"
   ]
  },
  {
   "cell_type": "code",
   "execution_count": 10,
   "metadata": {},
   "outputs": [
    {
     "output_type": "stream",
     "name": "stdout",
     "text": [
      "Time to process 104 Subhalos: \n32 Seconds\n"
     ]
    }
   ],
   "source": [
    "\n",
    "print(\"Time to process \" + str(N) + \" Subhalos: \")\n",
    "print(int(end - start), \"Seconds\")"
   ]
  },
  {
   "cell_type": "code",
   "execution_count": 11,
   "metadata": {},
   "outputs": [
    {
     "output_type": "error",
     "ename": "TypeError",
     "evalue": "object of type 'numpy.int32' has no len()",
     "traceback": [
      "\u001b[1;31m---------------------------------------------------------------------------\u001b[0m",
      "\u001b[1;31mTypeError\u001b[0m                                 Traceback (most recent call last)",
      "\u001b[1;32m<ipython-input-11-39771b27470f>\u001b[0m in \u001b[0;36m<module>\u001b[1;34m\u001b[0m\n\u001b[0;32m      1\u001b[0m \u001b[1;32mimport\u001b[0m \u001b[0mcheck_rotation\u001b[0m\u001b[1;33m\u001b[0m\u001b[1;33m\u001b[0m\u001b[0m\n\u001b[1;32m----> 2\u001b[1;33m \u001b[0mcheck_rotation\u001b[0m\u001b[1;33m.\u001b[0m\u001b[0mtest\u001b[0m\u001b[1;33m(\u001b[0m\u001b[0mgroup_cat\u001b[0m\u001b[1;33m,\u001b[0m \u001b[1;34m'tng-100-3'\u001b[0m\u001b[1;33m,\u001b[0m \u001b[1;34m'simple'\u001b[0m\u001b[1;33m)\u001b[0m\u001b[1;33m\u001b[0m\u001b[1;33m\u001b[0m\u001b[0m\n\u001b[0m",
      "\u001b[1;32mc:\\Users\\auror\\TNG\\src\\check_rotation.py\u001b[0m in \u001b[0;36mtest\u001b[1;34m(catalogue, tng_run, test_name)\u001b[0m\n\u001b[0;32m     54\u001b[0m     \u001b[0mlatest_id\u001b[0m \u001b[1;33m=\u001b[0m \u001b[0mfind_most_late\u001b[0m\u001b[1;33m(\u001b[0m\u001b[0mtng_run\u001b[0m\u001b[1;33m,\u001b[0m \u001b[0mtest_name\u001b[0m\u001b[1;33m)\u001b[0m\u001b[1;33m\u001b[0m\u001b[1;33m\u001b[0m\u001b[0m\n\u001b[0;32m     55\u001b[0m     \u001b[0mmost_late_index\u001b[0m \u001b[1;33m=\u001b[0m \u001b[0mcatalogue\u001b[0m\u001b[1;33m[\u001b[0m\u001b[0mcatalogue\u001b[0m\u001b[1;33m[\u001b[0m\u001b[1;34m\"id\"\u001b[0m\u001b[1;33m]\u001b[0m \u001b[1;33m==\u001b[0m \u001b[0mlatest_id\u001b[0m\u001b[1;33m]\u001b[0m\u001b[1;33m.\u001b[0m\u001b[0mindex\u001b[0m\u001b[1;33m.\u001b[0m\u001b[0mvalues\u001b[0m\u001b[1;33m.\u001b[0m\u001b[0mastype\u001b[0m\u001b[1;33m(\u001b[0m\u001b[0mint\u001b[0m\u001b[1;33m)\u001b[0m\u001b[1;33m[\u001b[0m\u001b[1;36m0\u001b[0m\u001b[1;33m]\u001b[0m\u001b[1;33m\u001b[0m\u001b[1;33m\u001b[0m\u001b[0m\n\u001b[1;32m---> 56\u001b[1;33m     \u001b[0mmost_late\u001b[0m \u001b[1;33m=\u001b[0m \u001b[0mtng100_test\u001b[0m\u001b[1;33m.\u001b[0m\u001b[0mbasic_properties_stars\u001b[0m\u001b[1;33m(\u001b[0m\u001b[0mtng_run\u001b[0m\u001b[1;33m,\u001b[0m \u001b[1;36m99\u001b[0m\u001b[1;33m,\u001b[0m \u001b[0mlatest_id\u001b[0m\u001b[1;33m,\u001b[0m \u001b[0mstars_out\u001b[0m\u001b[1;33m=\u001b[0m\u001b[1;32mTrue\u001b[0m\u001b[1;33m)\u001b[0m\u001b[1;33m\u001b[0m\u001b[1;33m\u001b[0m\u001b[0m\n\u001b[0m\u001b[0;32m     57\u001b[0m     \u001b[0mcreate_projections\u001b[0m\u001b[1;33m(\u001b[0m\u001b[0mmost_late\u001b[0m\u001b[1;33m,\u001b[0m \u001b[0mlatest_id\u001b[0m\u001b[1;33m,\u001b[0m \u001b[0mtest_name\u001b[0m\u001b[1;33m)\u001b[0m\u001b[1;33m\u001b[0m\u001b[1;33m\u001b[0m\u001b[0m\n\u001b[0;32m     58\u001b[0m \u001b[1;33m\u001b[0m\u001b[0m\n",
      "\u001b[1;32mc:\\Users\\auror\\TNG\\src\\tng100_test.py\u001b[0m in \u001b[0;36mbasic_properties_stars\u001b[1;34m(tng_run, snapshot, indices, stars_out)\u001b[0m\n\u001b[0;32m     15\u001b[0m             }\n\u001b[0;32m     16\u001b[0m \u001b[1;33m\u001b[0m\u001b[0m\n\u001b[1;32m---> 17\u001b[1;33m     \u001b[0mN\u001b[0m \u001b[1;33m=\u001b[0m \u001b[0mlen\u001b[0m\u001b[1;33m(\u001b[0m\u001b[0mindices\u001b[0m\u001b[1;33m)\u001b[0m\u001b[1;33m\u001b[0m\u001b[1;33m\u001b[0m\u001b[0m\n\u001b[0m\u001b[0;32m     18\u001b[0m     \u001b[0mstars\u001b[0m \u001b[1;33m=\u001b[0m \u001b[1;33m[\u001b[0m\u001b[1;36m0\u001b[0m\u001b[1;33m]\u001b[0m\u001b[1;33m*\u001b[0m\u001b[0mN\u001b[0m\u001b[1;33m\u001b[0m\u001b[1;33m\u001b[0m\u001b[0m\n\u001b[0;32m     19\u001b[0m     \u001b[0mgroup_cat\u001b[0m \u001b[1;33m=\u001b[0m \u001b[0mpd\u001b[0m\u001b[1;33m.\u001b[0m\u001b[0mDataFrame\u001b[0m\u001b[1;33m(\u001b[0m\u001b[1;33m{\u001b[0m\u001b[1;34m\"id\"\u001b[0m\u001b[1;33m:\u001b[0m \u001b[0mindices\u001b[0m\u001b[1;33m}\u001b[0m\u001b[1;33m)\u001b[0m\u001b[1;33m\u001b[0m\u001b[1;33m\u001b[0m\u001b[0m\n",
      "\u001b[1;31mTypeError\u001b[0m: object of type 'numpy.int32' has no len()"
     ]
    }
   ],
   "source": [
    "import check_rotation\n",
    "check_rotation.test(group_cat, 'tng-100-3', 'simple')"
   ]
  },
  {
   "cell_type": "code",
   "execution_count": 12,
   "metadata": {},
   "outputs": [],
   "source": [
    "latest_id = 3229\n",
    "most_late_index = group_cat[group_cat[\"id\"] == latest_id].index.values.astype(int)[0]\n",
    "most_late = stars[most_late_index]"
   ]
  },
  {
   "cell_type": "code",
   "execution_count": null,
   "metadata": {},
   "outputs": [],
   "source": []
  }
 ]
}