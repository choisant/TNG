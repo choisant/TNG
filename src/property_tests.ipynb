{
 "metadata": {
  "language_info": {
   "codemirror_mode": {
    "name": "ipython",
    "version": 3
   },
   "file_extension": ".py",
   "mimetype": "text/x-python",
   "name": "python",
   "nbconvert_exporter": "python",
   "pygments_lexer": "ipython3",
   "version": "3.8.2-final"
  },
  "orig_nbformat": 2,
  "kernelspec": {
   "name": "python3",
   "display_name": "Python 3",
   "language": "python"
  }
 },
 "nbformat": 4,
 "nbformat_minor": 2,
 "cells": [
  {
   "cell_type": "code",
   "execution_count": 12,
   "metadata": {},
   "outputs": [],
   "source": [
    "import numpy as np\n",
    "import matplotlib.pyplot as plt\n",
    "import pandas as pd\n",
    "from timeit import default_timer as timer\n",
    "import illustris_python as il\n",
    "import physics\n",
    "\n",
    "#intitial setup\n",
    "basePath = \"../data/tng-100-3/output\"\n",
    "fields = {\"stars\": [\"Coordinates\", \"Potential\", \"Masses\", \"Velocities\"],\n",
    "        \"gas\": [\"Coordinates\", \"Potential\", \"Masses\", \"Velocities\"],\n",
    "        \"dm\": [\"Coordinates\", \"Potential\", \"Velocities\"]\n",
    "        }\n",
    "indices = [544, 953, 1285, 1662]\n",
    "\n",
    "#indices[0] = 1893\n",
    "\n",
    "#[544, 953, 1285, 1662]\n",
    "#[1893, 2164, 3043, 3229, 3403, 3605, 3760] \n",
    "#np.genfromtxt(\"../data/tng-100-3/cutdata/central_ids.txt\")\n",
    "DM_PARTICLE_MASS = 0.03235675 #found in header of snapshot\n",
    "N = len(indices)\n",
    "stars = [0]*N\n",
    "gas = [0]*N\n",
    "dm = [0]*N\n",
    "particle_lists = [gas, dm, stars]\n",
    "group_cat = pd.DataFrame({\"id\": indices})\n",
    "#Start timer\n",
    "start = timer()\n"
   ]
  },
  {
   "cell_type": "code",
   "execution_count": 13,
   "metadata": {},
   "outputs": [],
   "source": [
    "#Load all particles\n",
    "for i in range(N):\n",
    "    stars[i] = il.pandasformat.dict_to_pandas(il.snapshot.loadSubhalo(basePath, 99, indices[i], 'stars', fields[\"stars\"]))\n",
    "    gas[i] = il.pandasformat.dict_to_pandas(il.snapshot.loadSubhalo(basePath, 99, indices[i], 'gas', fields[\"gas\"]))\n",
    "    dm[i] = il.pandasformat.dict_to_pandas(il.snapshot.loadSubhalo(basePath, 99, indices[i], 'dm', fields[\"dm\"]))\n",
    "    dm[i][\"Masses\"] = [DM_PARTICLE_MASS]*len(dm[i][\"Potential\"]) #Add dm masses\n",
    "\n",
    "subhaloFields = [\"SubhaloMass\", 'SubhaloMassType', \"SubhaloMassInHalfRadType\", \"SubhaloHalfmassRadType\", \"SubhaloPos\", \"SubhaloVel\", \"SubhaloSpin\"]\n",
    "subhalos = il.groupcat.loadSubhalos(basePath, 99, fields=subhaloFields)\n",
    "df_subhalos = il.pandasformat.dict_to_pandas(subhalos)"
   ]
  },
  {
   "cell_type": "code",
   "execution_count": 14,
   "metadata": {},
   "outputs": [
    {
     "output_type": "stream",
     "name": "stdout",
     "text": [
      "Calculating relative positions and radius\n",
      "Calculating particle masses\n",
      "Calculating subhalo velocity\n",
      "Calculating relative velocities\n"
     ]
    }
   ],
   "source": [
    "print(\"Calculating relative positions and radius\")\n",
    "particle_lists, group_cat = physics.properties.relative_pos_radius(particle_lists, N, group_cat)\n",
    "print(\"Calculating particle masses\")\n",
    "particle_lists, group_cat = physics.properties.total_mass(particle_lists, N, group_cat)\n",
    "print(\"Calculating subhalo velocity\")\n",
    "particle_lists, group_cat = physics.properties.subhalo_velocity(particle_lists, N, group_cat)\n",
    "print(\"Calculating relative velocities\")\n",
    "for particle in particle_lists:\n",
    "    particle = physics.properties.relative_velocities(particle, N, group_cat)\n",
    "\"\"\"\n",
    "print(\"Calculating half mass radius\")\n",
    "stars, group_cat = physics.properties.half_mass_radius(stars, N, group_cat, \"Stellar\")\n",
    "print(\"Calculating maximum angular momentum\")\n",
    "group_cat = physics.properties.max_ang_momentum(stars, N, group_cat)\n",
    "rot_vector = np.transpose(np.array([group_cat[\"RotationAxisX\"], group_cat[\"RotationAxisY\"], group_cat[\"RotationAxisZ\"]]))\n",
    "print(\"Rotating subhalos\")\n",
    "particle_lists = physics.geometry.rotate_coordinates(particle_lists, N, group_cat, rot_vector)\n",
    "\"\"\"\n",
    "#End timer\n",
    "end = timer()"
   ]
  },
  {
   "cell_type": "code",
   "execution_count": 44,
   "metadata": {},
   "outputs": [],
   "source": [
    "def half_mass_radius(particle, N, catalogue, particle_type=\"Stellar\"):\n",
    "    \"\"\"\n",
    "    Calculates half mass radius for a certain particle type and adds it to the group catalogue.\n",
    "    \"\"\"\n",
    "    halfmass_rad = np.zeros(N) #empty list\n",
    "    mass_key = \"SubhaloMass\" + particle_type\n",
    "    rad_key = \"SubhaloHalfmassRad\" + particle_type\n",
    "    for i in range(N):\n",
    "        temp = particle[i].copy(deep=True)\n",
    "        temp.sort_values(by=\"r\", inplace = True) #sort particles by radius\n",
    "        temp = temp.reset_index(drop=True)\n",
    "        temp_mass = 0\n",
    "        #Start adding the masses of all particles starting with smallest radius\n",
    "        for j in range(len(temp[\"r\"])):\n",
    "            #Check if total mass is less than half total particle mass\n",
    "            if temp_mass < (catalogue[mass_key][i]/2):\n",
    "                temp_mass = temp_mass + temp[\"Masses\"][j] #Add mass of next particle\n",
    "            else:\n",
    "                #Add half mass radius.\n",
    "                #Some uncertainty on calculation method here, now center of mass between particle j and j-i.\n",
    "                m1 = temp[\"Masses\"][j-1]\n",
    "                m2 = temp[\"Masses\"][j]\n",
    "                M = m1+m2\n",
    "                halfmass_rad[i] = (m1*temp[\"r\"][j-1] + m2*temp[\"r\"][j])/M\n",
    "                break  #stop loop\n",
    "    catalogue[rad_key] = halfmass_rad #save to catalogue\n",
    "    return particle, catalogue\n"
   ]
  },
  {
   "cell_type": "code",
   "execution_count": 45,
   "metadata": {},
   "outputs": [
    {
     "output_type": "stream",
     "name": "stdout",
     "text": [
      "0 9361 64.72123052750044 64.73282953022934 64.7262886582862\n",
      "1 10444 78.94338477267323 78.96518300724607 78.95183316992888\n",
      "2 5144 33.91534743459071 33.923068368323044 33.92006088473392\n",
      "3 5073 40.65422370017747 40.6627463877318 40.65735770631967\n",
      "40.95408411044242\n",
      "5.98725084492989\n"
     ]
    }
   ],
   "source": [
    "stars, group_cat = half_mass_radius(stars, N, group_cat, \"Stellar\")\n",
    "print(stars[3][\"r\"][5083])"
   ]
  },
  {
   "cell_type": "code",
   "execution_count": 4,
   "metadata": {
    "tags": []
   },
   "outputs": [
    {
     "output_type": "stream",
     "name": "stdout",
     "text": [
      "Masses check\nGroup catalogue:  80.1757  Snapshot:  80.17588806152344\nGroup catalogue:  90.369896  Snapshot:  90.3699951171875\nGroup catalogue:  43.96099  Snapshot:  43.97459030151367\n"
     ]
    }
   ],
   "source": [
    "print(\"Masses check\")\n",
    "for i in range(3):\n",
    "    print(\"Group catalogue: \", df_subhalos[\"SubhaloMassStellar\"][indices[i]], \" Snapshot: \", group_cat[\"SubhaloMassStellar\"][i])"
   ]
  },
  {
   "cell_type": "code",
   "execution_count": 5,
   "metadata": {
    "tags": []
   },
   "outputs": [
    {
     "output_type": "stream",
     "name": "stdout",
     "text": [
      "Velocities check\n-175.11496411068748 81.26290417921925 -8.336148174927477\n[-175.13785    81.367256   -8.339443]\n279.265925652316 -99.84715851410176 82.07070970468858\n[279.23257  -99.84879   82.072495]\n174.67770423321207 57.30106101855136 170.3806483246425\n[174.64732  57.31744 170.41402]\n"
     ]
    }
   ],
   "source": [
    "print(\"Velocities check\")\n",
    "for i in range(3):\n",
    "    print(group_cat[\"SubhaloVelocityX\"][i], group_cat[\"SubhaloVelocityY\"][i], group_cat[\"SubhaloVelocityZ\"][i])\n",
    "    print(df_subhalos[\"SubhaloVel\"][indices[i]])"
   ]
  },
  {
   "cell_type": "code",
   "execution_count": 46,
   "metadata": {
    "tags": []
   },
   "outputs": [
    {
     "output_type": "stream",
     "name": "stdout",
     "text": [
      "Halfmass radius check\nGroup catalogue:  64.70497  Snapshot:  64.7262886582862\nGroup catalogue:  79.047134  Snapshot:  78.95183316992888\nGroup catalogue:  33.925236  Snapshot:  33.92006088473392\n"
     ]
    }
   ],
   "source": [
    "print(\"Halfmass radius check\")\n",
    "for i in range(3): \n",
    "    print(\"Group catalogue: \", df_subhalos[\"SubhaloHalfmassRadStellar\"][indices[i]], \" Snapshot: \", group_cat[\"SubhaloHalfmassRadStellar\"][i])"
   ]
  },
  {
   "cell_type": "code",
   "execution_count": 7,
   "metadata": {},
   "outputs": [
    {
     "output_type": "stream",
     "name": "stdout",
     "text": [
      "Spin direction  check\nSubhalo:  0\nSnapshot :  [-0.02886851  0.44894144  0.89309473]\ncatalogue:  [ 0.21661627 -0.66537654 -0.7143889 ]\nSubhalo:  1\nSnapshot :  [ 0.59915765 -0.71522081  0.35981843]\ncatalogue:  [ 0.18161198 -0.07396439 -0.9805847 ]\nSubhalo:  2\nSnapshot :  [-0.15454508 -0.72022578  0.67630662]\ncatalogue:  [-0.28974828 -0.75167984  0.5924722 ]\n"
     ]
    }
   ],
   "source": [
    "print(\"Spin direction  check\")\n",
    "for i in range(3):\n",
    "    print(\"Subhalo: \", i)\n",
    "    s_vec = np.array(df_subhalos[\"SubhaloSpin\"][indices[i]])\n",
    "    s = np.linalg.norm(s_vec)\n",
    "    s_dir = s_vec/s\n",
    "    print(\"Snapshot : \", rot_vector[i])\n",
    "    print(\"catalogue: \", s_dir)"
   ]
  },
  {
   "cell_type": "code",
   "execution_count": 8,
   "metadata": {},
   "outputs": [
    {
     "output_type": "stream",
     "name": "stdout",
     "text": [
      "-273.7644\n-58.701385\n"
     ]
    }
   ],
   "source": [
    "print(gas[0][\"Vx\"][0])\n",
    "print(stars[0][\"Vx\"][0])"
   ]
  },
  {
   "cell_type": "code",
   "execution_count": 9,
   "metadata": {},
   "outputs": [],
   "source": [
    "#Save all fields for particles in one subhalo for later inspection\n",
    "g = 0\n",
    "stars[g].to_pickle(\"../data/tng-100-3/subhalos/subhalo\" + str(indices[g]) +\"_stars.pkl\")"
   ]
  },
  {
   "cell_type": "code",
   "execution_count": 10,
   "metadata": {},
   "outputs": [],
   "source": [
    "#Save group catalogue\n",
    "group_cat.to_pickle(\"../data/tng-100-3/catalogues/test_cat_01.pkl\")"
   ]
  },
  {
   "cell_type": "code",
   "execution_count": 11,
   "metadata": {},
   "outputs": [
    {
     "output_type": "stream",
     "name": "stdout",
     "text": [
      "Time to process 4 Subhalos: \n37 Seconds\n"
     ]
    }
   ],
   "source": [
    "\n",
    "print(\"Time to process \" + str(N) + \" Subhalos: \")\n",
    "print(int(end - start), \"Seconds\")"
   ]
  },
  {
   "cell_type": "code",
   "execution_count": null,
   "metadata": {},
   "outputs": [],
   "source": []
  }
 ]
}