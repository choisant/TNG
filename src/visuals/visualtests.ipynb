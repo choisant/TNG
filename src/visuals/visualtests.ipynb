{
 "metadata": {
  "language_info": {
   "codemirror_mode": {
    "name": "ipython",
    "version": 3
   },
   "file_extension": ".py",
   "mimetype": "text/x-python",
   "name": "python",
   "nbconvert_exporter": "python",
   "pygments_lexer": "ipython3",
   "version": 3
  },
  "orig_nbformat": 2
 },
 "nbformat": 4,
 "nbformat_minor": 2,
 "cells": [
  {
   "cell_type": "code",
   "execution_count": null,
   "metadata": {},
   "outputs": [],
   "source": [
    "import h5py\n",
    "from sphviewer.tools import QuickView\n",
    "\n",
    "with h5py.File('dm_halo.h5py', 'r') as f:\n",
    "    pos = f['Coordinates'].value\n",
    "\n",
    "qv = QuickView(pos, r='infinity', plot=False)\n",
    "qv.imshow()"
   ]
  }
 ]
}