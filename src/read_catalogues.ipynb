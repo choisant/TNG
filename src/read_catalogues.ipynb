{
 "metadata": {
  "language_info": {
   "codemirror_mode": {
    "name": "ipython",
    "version": 3
   },
   "file_extension": ".py",
   "mimetype": "text/x-python",
   "name": "python",
   "nbconvert_exporter": "python",
   "pygments_lexer": "ipython3",
   "version": "3.8.2-final"
  },
  "orig_nbformat": 2,
  "kernelspec": {
   "name": "python3",
   "display_name": "Python 3",
   "language": "python"
  }
 },
 "nbformat": 4,
 "nbformat_minor": 2,
 "cells": [
  {
   "cell_type": "code",
   "execution_count": 1,
   "metadata": {},
   "outputs": [],
   "source": [
    "import numpy as np\n",
    "import pandas as pd\n",
    "import matplotlib as mpl\n",
    "import matplotlib.pyplot as plt\n",
    "import illustris_python as il\n",
    "import os\n",
    "\n",
    "test_name = \"idun_3279064\"\n",
    "new_cat_path = \"../data/tng-100-1/catalogues/test_runs/\" + test_name + \"/\"\n",
    "#For comparing\n",
    "old_cat_path = \"../data/tng-100-1/output\"\n"
   ]
  },
  {
   "cell_type": "code",
   "execution_count": 2,
   "metadata": {},
   "outputs": [],
   "source": [
    "def load_old_cat(path):\n",
    "    subhalo_fields = [\"SubhaloMass\", 'SubhaloMassType', \"SubhaloMassInHalfRadType\", \"SubhaloHalfmassRadType\", \"SubhaloPos\", \"SubhaloVel\",               \"SubhaloSpin\"]\n",
    "    df = il.pandasformat.dict_to_pandas(il.groupcat.loadSubhalos(old_cat_path, 99, fields=subhalo_fields))\n",
    "    return df"
   ]
  },
  {
   "cell_type": "code",
   "execution_count": 3,
   "metadata": {},
   "outputs": [],
   "source": [
    "def create_cat(path):\n",
    "    df = pd.DataFrame()\n",
    "    for filename in os.listdir(path):\n",
    "        temp = pd.read_pickle(path + filename)\n",
    "        df_temp = pd.concat([df, temp])\n",
    "        df_temp = df_temp.sort_values(by=\"id\") \n",
    "        df = df_temp.reset_index(drop=True)\n",
    "    return df"
   ]
  },
  {
   "cell_type": "code",
   "execution_count": 4,
   "metadata": {},
   "outputs": [
    {
     "output_type": "stream",
     "name": "stdout",
     "text": [
      "Index(['id', 'SubhaloGalaxyRad', 'SubhaloRad', 'SubhaloPosX', 'SubhaloPosY',\n       'SubhaloPosZ', 'SubhaloMassStellar', 'SubhaloVelX', 'SubhaloVelY',\n       'SubhaloVelZ', 'SubhaloHalfmassRadStellar'],\n      dtype='object')\n"
     ]
    }
   ],
   "source": [
    "#old_cat = load_old_cat(old_cat_path)\n",
    "new_cat = create_cat(new_cat_path)\n",
    "print(new_cat.keys())"
   ]
  },
  {
   "cell_type": "code",
   "execution_count": 5,
   "metadata": {},
   "outputs": [
    {
     "output_type": "stream",
     "name": "stdout",
     "text": [
      "0    59.056705\n1    59.056705\n2    59.056705\n3    59.056705\n4    59.056705\nName: SubhaloMassStellar, dtype: float32\n"
     ]
    }
   ],
   "source": [
    "test_cat = pd.read_pickle(new_cat_path + \"17185-60731.pkl\")\n",
    "print(test_cat[\"SubhaloMassStellar\"])"
   ]
  },
  {
   "cell_type": "code",
   "execution_count": 10,
   "metadata": {},
   "outputs": [
    {
     "output_type": "stream",
     "name": "stdout",
     "text": [
      "0      19755.185348\n1      10900.190984\n2      68543.158358\n3      74659.302316\n4      18832.781771\n           ...     \n316    15836.415077\n317    12663.270626\n318    21179.133442\n319    56405.244054\n320    27865.764008\nName: SubhaloPosX, Length: 321, dtype: float64\n"
     ]
    }
   ],
   "source": [
    "print(new_cat[\"SubhaloPosX\"])"
   ]
  },
  {
   "cell_type": "code",
   "execution_count": 7,
   "metadata": {},
   "outputs": [
    {
     "output_type": "stream",
     "name": "stdout",
     "text": [
      "Masses check\n"
     ]
    },
    {
     "output_type": "error",
     "ename": "NameError",
     "evalue": "name 'old_cat' is not defined",
     "traceback": [
      "\u001b[1;31m---------------------------------------------------------------------------\u001b[0m",
      "\u001b[1;31mNameError\u001b[0m                                 Traceback (most recent call last)",
      "\u001b[1;32m<ipython-input-7-9c8c64d12da3>\u001b[0m in \u001b[0;36m<module>\u001b[1;34m\u001b[0m\n\u001b[0;32m      2\u001b[0m \u001b[0mprint\u001b[0m\u001b[1;33m(\u001b[0m\u001b[1;34m\"Masses check\"\u001b[0m\u001b[1;33m)\u001b[0m\u001b[1;33m\u001b[0m\u001b[1;33m\u001b[0m\u001b[0m\n\u001b[0;32m      3\u001b[0m \u001b[1;32mfor\u001b[0m \u001b[0mi\u001b[0m \u001b[1;32min\u001b[0m \u001b[0mrange\u001b[0m\u001b[1;33m(\u001b[0m\u001b[1;36m10\u001b[0m\u001b[1;33m)\u001b[0m\u001b[1;33m:\u001b[0m\u001b[1;33m\u001b[0m\u001b[1;33m\u001b[0m\u001b[0m\n\u001b[1;32m----> 4\u001b[1;33m     \u001b[0mprint\u001b[0m\u001b[1;33m(\u001b[0m\u001b[1;34m\"Group catalogue: \"\u001b[0m\u001b[1;33m,\u001b[0m \u001b[0mold_cat\u001b[0m\u001b[1;33m[\u001b[0m\u001b[1;34m\"SubhaloMassStellar\"\u001b[0m\u001b[1;33m]\u001b[0m\u001b[1;33m[\u001b[0m\u001b[0mindices\u001b[0m\u001b[1;33m[\u001b[0m\u001b[0mi\u001b[0m\u001b[1;33m]\u001b[0m\u001b[1;33m]\u001b[0m\u001b[1;33m,\u001b[0m \u001b[1;34m\" Snapshot: \"\u001b[0m\u001b[1;33m,\u001b[0m \u001b[0mnew_cat\u001b[0m\u001b[1;33m[\u001b[0m\u001b[1;34m\"SubhaloMassStellar\"\u001b[0m\u001b[1;33m]\u001b[0m\u001b[1;33m[\u001b[0m\u001b[0mi\u001b[0m\u001b[1;33m]\u001b[0m\u001b[1;33m)\u001b[0m\u001b[1;33m\u001b[0m\u001b[1;33m\u001b[0m\u001b[0m\n\u001b[0m",
      "\u001b[1;31mNameError\u001b[0m: name 'old_cat' is not defined"
     ]
    }
   ],
   "source": [
    "#indices = new_cat[\"id\"]\n",
    "#print(\"Masses check\")\n",
    "#for i in range(10):\n",
    " #   print(\"Group catalogue: \", old_cat[\"SubhaloMassStellar\"][indices[i]], \" Snapshot: \", new_cat[\"SubhaloMassStellar\"][i])"
   ]
  },
  {
   "cell_type": "code",
   "execution_count": null,
   "metadata": {},
   "outputs": [],
   "source": []
  }
 ]
}