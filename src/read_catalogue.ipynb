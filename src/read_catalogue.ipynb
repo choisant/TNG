{
 "metadata": {
  "language_info": {
   "codemirror_mode": {
    "name": "ipython",
    "version": 3
   },
   "file_extension": ".py",
   "mimetype": "text/x-python",
   "name": "python",
   "nbconvert_exporter": "python",
   "pygments_lexer": "ipython3",
   "version": "3.8.2-final"
  },
  "orig_nbformat": 2,
  "kernelspec": {
   "name": "python3",
   "display_name": "Python 3",
   "language": "python"
  }
 },
 "nbformat": 4,
 "nbformat_minor": 2,
 "cells": [
  {
   "cell_type": "code",
   "execution_count": 1,
   "metadata": {},
   "outputs": [
    {
     "output_type": "stream",
     "name": "stdout",
     "text": [
      "0    398110\n1    398282\n2    398549\n3    399101\n4    402979\n5    405460\n6    409358\n7    413091\n8    414050\n9    424986\nName: id, dtype: int64\n"
     ]
    }
   ],
   "source": [
    "import numpy as np\n",
    "import pandas as pd\n",
    "import matplotlib as mpl\n",
    "import matplotlib.pyplot as plt\n",
    "import illustris_python as il\n",
    "\n",
    "basePath = \"../data/tng-100-1/catalogues/\"\n",
    "groupCatPath = \"C:/Users/auror/astrophysics/master/illustris-project/data/tng100-1/output\"\n",
    "subhaloFields = [\"SubhaloMass\", 'SubhaloMassType', \"SubhaloMassInHalfRadType\", \"SubhaloHalfmassRadType\", \"SubhaloPos\", \"SubhaloVel\", \"SubhaloSpin\"]\n",
    "\n",
    "subhalos = il.groupcat.loadSubhalos(groupCatPath, 99, fields=subhaloFields)\n",
    "df_subhalos = il.pandasformat.dict_to_pandas(subhalos)\n",
    "\n",
    "stars = pd.read_pickle(basePath + \"test_cat01.pkl\")\n",
    "print(stars[\"id\"])\n"
   ]
  },
  {
   "cell_type": "code",
   "execution_count": 2,
   "metadata": {},
   "outputs": [
    {
     "output_type": "stream",
     "name": "stdout",
     "text": [
      "Subhalo positions\n[49568.938 23258.623 32110.148]\n49568.9702621202 23258.598287210774 32110.207681821314\n[15988.368 53388.125 19328.84 ]\n15988.339390205843 53388.12688203618 19328.838172084364\n[55645.234 60724.305  8130.172]\n55645.24431580044 60724.24347375384 8130.202068680517\n[54104.15   28021.334   1730.8711]\n54104.13655169781 28021.27311035912 1730.8518498203268\n[71297.38  56630.11  51900.605]\n71297.40489052846 56630.110103236024 51900.64958860955\n[15836.398  68795.01    4246.0347]\n15836.415077314128 68795.01967856116 4246.00144568551\n[12663.26 56319.25 37649.77]\n12663.27062593605 56319.23509779535 37649.75588615485\n[21179.166   66397.21      265.99426]\n21179.133441940867 66397.1544197073 266.03192949564965\n[56405.26   24180.764    947.2747]\n56405.244053767 24180.825630945154 947.2481332245402\n[27865.707 58721.406 59402.12 ]\n27865.764007708152 58721.42693619403 59402.16711232226\n"
     ]
    }
   ],
   "source": [
    "id_list = list(stars[\"id\"])\n",
    "print(\"Subhalo positions\")\n",
    "for i in range(len(id_list)):\n",
    "    print(df_subhalos[\"SubhaloPos\"][id_list[i]])\n",
    "    print(stars[\"SubhaloPosX\"][i], stars[\"SubhaloPosY\"][i], stars[\"SubhaloPosZ\"][i])"
   ]
  },
  {
   "cell_type": "code",
   "execution_count": 4,
   "metadata": {},
   "outputs": [
    {
     "output_type": "stream",
     "name": "stdout",
     "text": [
      "Subhalo velocities\n[133.57335  -68.816216  40.36176 ]\n133.57350038492004 -68.81685361154035 40.36288993951909\n[-27.95371  -71.333595  63.67257 ]\n-27.953560880785382 -71.33386989663833 63.67299186169781\n[72.669876 35.293064 42.630684]\n72.67077608109915 35.29090984663424 42.63369223504969\n[202.67659 182.44392  83.93527]\n202.67718567134267 182.4432690410048 83.93573371357603\n[ -5.587112  72.77968  433.585   ]\n-5.588078536626028 72.7792488246904 433.5847758087006\n[ 532.58264   83.92157 -233.29956]\n532.5841208431088 83.92295426749341 -233.29833940357395\n[ -18.818027 -179.22438   241.37378 ]\n-18.816994652071973 -179.22506622614884 241.37321773282798\n[-482.53964   413.91574   -82.640564]\n-482.5400107702277 413.91598646053296 -82.64058027637248\n[ 66.56248 157.8692  190.31494]\n66.56068777830959 157.86843314864518 190.31246732046168\n[-169.58159   43.07278 -103.58237]\n-169.580750801787 43.07373194929026 -103.58272293773604\n"
     ]
    }
   ],
   "source": [
    "print(\"Subhalo velocities\")\n",
    "for i in range(len(id_list)):\n",
    "    print(df_subhalos[\"SubhaloVel\"][id_list[i]])\n",
    "    print(stars[\"SubhaloVelX\"][i], stars[\"SubhaloVelY\"][i], stars[\"SubhaloVelZ\"][i])"
   ]
  },
  {
   "cell_type": "code",
   "execution_count": 5,
   "metadata": {},
   "outputs": [
    {
     "output_type": "stream",
     "name": "stdout",
     "text": [
      "Subhalo half mass radius\nGC 6.287621\nSnapshot 6.290894553423335\nGC 7.0684953\nSnapshot 7.0683947771848405\nGC 7.3634167\nSnapshot 7.361208379655985\nGC 7.8172245\nSnapshot 7.817251604508204\nGC 8.788133\nSnapshot 8.790678129556007\nGC 6.801729\nSnapshot 6.801529775488056\nGC 7.696094\nSnapshot 7.698464676250775\nGC 8.039131\nSnapshot 8.041550551702164\nGC 8.517873\nSnapshot 8.524592471443025\nGC 8.257167\nSnapshot 8.256289169126847\n"
     ]
    }
   ],
   "source": [
    "print(\"Subhalo half mass radius\")\n",
    "for i in range(len(id_list)):\n",
    "    print(\"GC\", df_subhalos[\"SubhaloHalfmassRadStellar\"][id_list[i]])\n",
    "    print(\"Snapshot\", stars[\"SubhaloHalfmassRadStellar\"][i])"
   ]
  },
  {
   "cell_type": "code",
   "execution_count": null,
   "metadata": {},
   "outputs": [],
   "source": []
  }
 ]
}