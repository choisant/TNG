{
 "metadata": {
  "language_info": {
   "codemirror_mode": {
    "name": "ipython",
    "version": 3
   },
   "file_extension": ".py",
   "mimetype": "text/x-python",
   "name": "python",
   "nbconvert_exporter": "python",
   "pygments_lexer": "ipython3",
   "version": "3.8.2-final"
  },
  "orig_nbformat": 2,
  "kernelspec": {
   "name": "python3",
   "display_name": "Python 3",
   "language": "python"
  }
 },
 "nbformat": 4,
 "nbformat_minor": 2,
 "cells": [
  {
   "cell_type": "code",
   "execution_count": 2,
   "metadata": {},
   "outputs": [
    {
     "output_type": "stream",
     "name": "stdout",
     "text": [
      "       id  SubhaloPosX   SubhaloPosY   SubhaloPosZ  SubhaloMassGas  \\\n0  371259  5698.699215  52289.493528  27350.048176       25.815331   \n\n   SubhaloMassDM  SubhaloMassStellar  SubhaloMass  SubhaloVelocityX  \\\n0     387.608646           10.682663   424.106639         -6.441465   \n\n   SubhaloVelocityY  SubhaloVelocityZ  SubhaloHalfmassRadStellar  \\\n0         -145.4363        228.121761                   3.023954   \n\n   RotationAxisX  RotationAxisY  RotationAxisZ  \n0      -0.360544       0.219421      -0.906566  \n"
     ]
    }
   ],
   "source": [
    "import numpy as np\n",
    "import pandas as pd\n",
    "import matplotlib as mpl\n",
    "import matplotlib.pyplot as plt\n",
    "import illustris_python as il\n",
    "\n",
    "basePath = \"../data/tng-100-1/catalogues/\"\n",
    "\n",
    "\n",
    "stars = pd.read_pickle(basePath + \"test_cat_01.pkl\")\n",
    "print(stars)\n"
   ]
  },
  {
   "cell_type": "code",
   "execution_count": null,
   "metadata": {},
   "outputs": [],
   "source": []
  }
 ]
}