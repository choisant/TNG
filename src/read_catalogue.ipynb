{
 "metadata": {
  "language_info": {
   "codemirror_mode": {
    "name": "ipython",
    "version": 3
   },
   "file_extension": ".py",
   "mimetype": "text/x-python",
   "name": "python",
   "nbconvert_exporter": "python",
   "pygments_lexer": "ipython3",
   "version": "3.8.2-final"
  },
  "orig_nbformat": 2,
  "kernelspec": {
   "name": "python3",
   "display_name": "Python 3",
   "language": "python"
  }
 },
 "nbformat": 4,
 "nbformat_minor": 2,
 "cells": [
  {
   "cell_type": "code",
   "execution_count": 6,
   "metadata": {},
   "outputs": [
    {
     "output_type": "stream",
     "name": "stdout",
     "text": [
      "0    52618.0\n1    60731.0\n2    69507.0\n3    76086.0\n4    83280.0\nName: id, dtype: float64\n"
     ]
    }
   ],
   "source": [
    "import numpy as np\n",
    "import pandas as pd\n",
    "import matplotlib as mpl\n",
    "import matplotlib.pyplot as plt\n",
    "import illustris_python as il\n",
    "\n",
    "basePath = \"../data/tng-100-1/catalogues/\"\n",
    "groupCatPath = \"C:/Users/auror/astrophysics/master/illustris-project/data/tng100-1/output\"\n",
    "subhaloFields = [\"SubhaloMass\", 'SubhaloMassType', \"SubhaloMassInHalfRadType\", \"SubhaloHalfmassRadType\", \"SubhaloPos\", \"SubhaloVel\", \"SubhaloSpin\"]\n",
    "\n",
    "subhalos = il.groupcat.loadSubhalos(groupCatPath, 99, fields=subhaloFields)\n",
    "df_subhalos = il.pandasformat.dict_to_pandas(subhalos)\n",
    "\n",
    "stars = pd.read_pickle(basePath + \"test_cat_02.pkl\")\n",
    "print(stars[\"id\"])\n"
   ]
  },
  {
   "cell_type": "code",
   "execution_count": 7,
   "metadata": {},
   "outputs": [
    {
     "output_type": "stream",
     "name": "stdout",
     "text": [
      "[74659.33  18347.502 24016.389]\n74659.30231606486 18347.52604958556 24016.42486846721\n[18832.76   68248.68    2399.8157]\n18832.781770785587 68248.73281279128 2399.8353528505418\n[43440.1   38187.387 70194.56 ]\n43440.115060139 38187.36843339067 70194.51385511916\n[36771.992    937.5334 70503.445 ]\n36771.98057884672 937.574047139254 70503.4659197319\n[23867.799 33076.1   41411.195]\n23867.918560123162 33076.11857327403 41411.14821781807\n"
     ]
    }
   ],
   "source": [
    "id_list = list(stars[\"id\"])\n",
    "print(\"Subhalo positions\")\n",
    "for i in range(len(id_list)):\n",
    "    print(df_subhalos[\"SubhaloPos\"][id_list[i]])\n",
    "    print(stars[\"SubhaloPosX\"][i], stars[\"SubhaloPosY\"][i], stars[\"SubhaloPosZ\"][i])"
   ]
  },
  {
   "cell_type": "code",
   "execution_count": 9,
   "metadata": {},
   "outputs": [
    {
     "output_type": "stream",
     "name": "stdout",
     "text": [
      "Subhalo velocities\n[ 93.14602 305.90457 152.78827]\n94.20912789719988 309.3848585551581 154.526035039799\n[ 21.870102  21.780874 -40.56558 ]\n21.758922261317263 21.66527504285486 -40.3543670298024\n[ 30.629827 -96.97477  -68.274315]\n30.527163277609155 -96.64024451637295 -68.0391617255964\n[-220.56462   -91.032135   24.597898]\n-217.83122308682422 -89.90226164518525 24.292518298060894\n[-149.86743  322.27896  168.55688]\n-148.83566239688983 320.06539288084133 167.4008473903134\n"
     ]
    }
   ],
   "source": [
    "print(\"Subhalo velocities\")\n",
    "for i in range(len(id_list)):\n",
    "    print(df_subhalos[\"SubhaloVel\"][id_list[i]])\n",
    "    print(stars[\"SubhaloVelocityX\"][i], stars[\"SubhaloVelocityY\"][i], stars[\"SubhaloVelocityZ\"][i])"
   ]
  },
  {
   "cell_type": "code",
   "execution_count": 11,
   "metadata": {},
   "outputs": [
    {
     "output_type": "stream",
     "name": "stdout",
     "text": [
      "Subhalo half mass radius\nGC 35.77964\nSnapshot 40.3240053005604\nGC 33.382057\nSnapshot 38.89691617964376\nGC 32.648647\nSnapshot 49.812263056090465\nGC 23.77969\nSnapshot 23.405951963005236\nGC 33.215683\nSnapshot 37.604380347194756\n"
     ]
    }
   ],
   "source": [
    "print(\"Subhalo half mass radius\")\n",
    "for i in range(len(id_list)):\n",
    "    print(\"GC\", df_subhalos[\"SubhaloHalfmassRadStellar\"][id_list[i]])\n",
    "    print(\"Snapshot\", stars[\"SubhaloHalfmassRadStellar\"][i])"
   ]
  },
  {
   "cell_type": "code",
   "execution_count": null,
   "metadata": {},
   "outputs": [],
   "source": []
  }
 ]
}