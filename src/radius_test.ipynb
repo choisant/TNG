{
 "metadata": {
  "language_info": {
   "codemirror_mode": {
    "name": "ipython",
    "version": 3
   },
   "file_extension": ".py",
   "mimetype": "text/x-python",
   "name": "python",
   "nbconvert_exporter": "python",
   "pygments_lexer": "ipython3",
   "version": "3.8.2-final"
  },
  "orig_nbformat": 2,
  "kernelspec": {
   "name": "python3",
   "display_name": "Python 3",
   "language": "python"
  }
 },
 "nbformat": 4,
 "nbformat_minor": 2,
 "cells": [
  {
   "cell_type": "code",
   "execution_count": 1,
   "metadata": {},
   "outputs": [],
   "source": [
    "import numpy as np\n",
    "import matplotlib as mpl\n",
    "import matplotlib.pyplot as plt\n",
    "import illustris_python as il\n",
    "import pandas as pd\n",
    "\n",
    "#intitial setup\n",
    "basePath = \"../data/tng-100-3/output\"\n",
    "fields = {\"stars\": [\"Coordinates\", \"Potential\", \"Masses\", \"Velocities\"],\n",
    "        \"gas\": [\"Coordinates\", \"Potential\", \"Masses\", \"Velocities\"],\n",
    "        \"dm\": [\"Coordinates\", \"Potential\"]\n",
    "        }\n",
    "indices = [1893, 2164, 3043, 3229, 3403, 3605, 3760] #np.genfromtxt(\"./data/tng-100-3/cutdata/early_type_indices.csv\")\n",
    "DM_PARTICLE_MASS = 0.03235675 #found in header of snapshot\n",
    "N = len(indices)\n",
    "stars = [0]*N\n",
    "gas = [0]*N\n",
    "dm = [0]*N\n",
    "particle_lists= [stars, gas, dm]\n",
    "group_cat = pd.DataFrame({\"id\": indices})\n"
   ]
  },
  {
   "cell_type": "code",
   "execution_count": 2,
   "metadata": {},
   "outputs": [],
   "source": [
    "def radius(df):\n",
    "    x = np.array(df[\"x\"])\n",
    "    y = np.array(df[\"y\"])\n",
    "    z = np.array(df[\"z\"])\n",
    "    r = (x**2 + y**2 + z**2)**(1/2)\n",
    "    return r"
   ]
  },
  {
   "cell_type": "code",
   "execution_count": 3,
   "metadata": {},
   "outputs": [],
   "source": [
    "#Load all particles\n",
    "for i in range(N):\n",
    "    stars[i] = il.pandasformat.dict_to_pandas(il.snapshot.loadSubhalo(basePath, 99, indices[i], 'stars', fields[\"stars\"]))\n",
    "    gas[i] = il.pandasformat.dict_to_pandas(il.snapshot.loadSubhalo(basePath, 99, indices[i], 'gas', fields[\"gas\"]))\n",
    "    dm[i] = il.pandasformat.dict_to_pandas(il.snapshot.loadSubhalo(basePath, 99, indices[i], 'dm', fields[\"dm\"]))\n",
    "    dm[i][\"Masses\"] = [DM_PARTICLE_MASS]*len(dm[i][\"Potential\"])\n",
    "\n",
    "\n",
    "subhaloFields = [\"SubhaloMass\", 'SubhaloMassType', \"SubhaloMassInHalfRadType\", \"SubhaloHalfmassRadType\", \"SubhaloPos\"]\n",
    "subhalos = il.groupcat.loadSubhalos(basePath, 99, fields=subhaloFields)\n",
    "df_subhalos = il.pandasformat.dict_to_pandas(subhalos)"
   ]
  },
  {
   "cell_type": "code",
   "execution_count": 4,
   "metadata": {},
   "outputs": [],
   "source": [
    "#calculate radius\n",
    "center_of_mass = np.zeros([N,3])\n",
    "for i in range(N):\n",
    "    #find center of halo\n",
    "    min_pot = 0\n",
    "    for particle in particle_lists:\n",
    "        #Find particle with lowest potential\n",
    "        min_pot_value = particle[i][\"Potential\"].min()\n",
    "        if min_pot_value < min_pot:\n",
    "            min_pot = min_pot_value\n",
    "            #Get particle position and assign as center of galaxy\n",
    "            min_pot_pos = particle[i][particle[i][\"Potential\"] == min_pot_value][\"Coordinates\"].values[0]\n",
    "    #Save to group catalogue\n",
    "    center_of_mass[i] = min_pot_pos\n",
    "    #Calculate new coordinates\n",
    "    for particle in particle_lists:\n",
    "        particle[i][\"x\"] = particle[i][\"X\"] - min_pot_pos[0]\n",
    "        particle[i][\"y\"] = particle[i][\"Y\"] - min_pot_pos[1]\n",
    "        particle[i][\"z\"] = particle[i][\"Z\"] - min_pot_pos[2]\n",
    "        particle[i][\"r\"] = radius(particle[i])\n",
    "group_cat[\"CenterOfMassX\"] = center_of_mass[:,0]\n",
    "group_cat[\"CenterOfMassY\"] = center_of_mass[:,1]\n",
    "group_cat[\"CenterOfMassZ\"] = center_of_mass[:,2]"
   ]
  },
  {
   "cell_type": "code",
   "execution_count": 5,
   "metadata": {},
   "outputs": [],
   "source": [
    "#Calculate total mass for each particle type\n",
    "stellar_mass = np.zeros(N)\n",
    "gas_mass = np.zeros(N)\n",
    "dm_mass = np.zeros(N)\n",
    "\n",
    "for i in range(N):\n",
    "    stellar_mass[i] = stars[i][\"Masses\"].sum() #or load from snapshot to save time\n",
    "    gas_mass[i] = gas[i][\"Masses\"].sum()\n",
    "    dm_mass[i] = dm[i][\"Masses\"].sum()\n",
    "\n",
    "total_mass = stellar_mass + gas_mass + dm_mass\n",
    "#save value to catalogue\n",
    "group_cat[\"SubhaloMassStellar\"] = stellar_mass\n",
    "group_cat[\"SubhaloMassGas\"] = gas_mass\n",
    "group_cat[\"SubhaloMassDM\"] = dm_mass\n",
    "group_cat[\"SubhaloMass\"] = total_mass\n",
    "#print(stars[1])"
   ]
  },
  {
   "cell_type": "code",
   "execution_count": 6,
   "metadata": {
    "tags": []
   },
   "outputs": [],
   "source": [
    "halfmass_rad = np.zeros(N)\n",
    "#Calculate half mass radius\n",
    "\n",
    "for i in range(N):\n",
    "    temp = stars[i].copy(deep=True)\n",
    "    temp = temp.sort_values(by=\"r\")\n",
    "    temp_mass = 0\n",
    "    n = temp[\"count\"][0]\n",
    "    r_max = 40\n",
    "    r = 0\n",
    "    for j in range(n):\n",
    "        if temp_mass < (group_cat[\"SubhaloMassStellar\"][i]/2):\n",
    "            temp_mass = temp_mass + temp[\"Masses\"][j]\n",
    "        else:\n",
    "            m1 = temp[\"Masses\"][j-1]\n",
    "            m2 = temp[\"Masses\"][j]\n",
    "            M = m1+m2\n",
    "            halfmass_rad[i] = (m1*temp[\"r\"][j-1] + m2*temp[\"r\"][j])/M #some uncertainty here, now center of mass\n",
    "            break  \n",
    "group_cat[\"SubhaloHalfmassRadStellar\"] = halfmass_rad\n"
   ]
  },
  {
   "cell_type": "code",
   "execution_count": 7,
   "metadata": {},
   "outputs": [
    {
     "output_type": "stream",
     "name": "stdout",
     "text": [
      "Group catalogue:  22.51544  Snapshot:  24.917712662221792\nGroup catalogue:  35.24243  Snapshot:  33.96407061049739\nGroup catalogue:  27.368404  Snapshot:  31.957937076175117\nGroup catalogue:  28.622637  Snapshot:  43.473352046316556\nGroup catalogue:  20.585445  Snapshot:  16.469285075727896\nGroup catalogue:  15.178419  Snapshot:  18.897330597224407\nGroup catalogue:  21.49089  Snapshot:  10.059873622989697\n"
     ]
    }
   ],
   "source": [
    "#print(group_cat[\"SubhaloHalfmassRadStellar\"])\n",
    "j = 0\n",
    "for i in indices: \n",
    "    print(\"Group catalogue: \", df_subhalos[\"SubhaloHalfmassRadStellar\"][i], \" Snapshot: \", group_cat[\"SubhaloHalfmassRadStellar\"][j])\n",
    "    j = j +1\n",
    "#print(df_subhalos[\"SubhaloMassStellar\"][1893])"
   ]
  },
  {
   "cell_type": "code",
   "execution_count": null,
   "metadata": {},
   "outputs": [],
   "source": []
  }
 ]
}